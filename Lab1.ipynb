{
 "cells": [
  {
   "cell_type": "code",
   "execution_count": 3,
   "id": "cf4e9c9d",
   "metadata": {},
   "outputs": [
    {
     "name": "stdout",
     "output_type": "stream",
     "text": [
      "Requirement already satisfied: numpy in c:\\python311\\lib\\site-packages (1.24.2)\n"
     ]
    }
   ],
   "source": [
    "!pip install numpy\n"
   ]
  },
  {
   "cell_type": "code",
   "execution_count": 4,
   "id": "4eb43f4b",
   "metadata": {},
   "outputs": [
    {
     "name": "stdout",
     "output_type": "stream",
     "text": [
      "Requirement already satisfied: matplotlib in c:\\python311\\lib\\site-packages (3.7.1)\n",
      "Requirement already satisfied: contourpy>=1.0.1 in c:\\python311\\lib\\site-packages (from matplotlib) (1.0.7)\n",
      "Requirement already satisfied: cycler>=0.10 in c:\\python311\\lib\\site-packages (from matplotlib) (0.11.0)\n",
      "Requirement already satisfied: fonttools>=4.22.0 in c:\\python311\\lib\\site-packages (from matplotlib) (4.39.2)\n",
      "Requirement already satisfied: kiwisolver>=1.0.1 in c:\\python311\\lib\\site-packages (from matplotlib) (1.4.4)\n",
      "Requirement already satisfied: numpy>=1.20 in c:\\python311\\lib\\site-packages (from matplotlib) (1.24.2)\n",
      "Requirement already satisfied: packaging>=20.0 in c:\\python311\\lib\\site-packages (from matplotlib) (23.0)\n",
      "Requirement already satisfied: pillow>=6.2.0 in c:\\python311\\lib\\site-packages (from matplotlib) (9.4.0)\n",
      "Requirement already satisfied: pyparsing>=2.3.1 in c:\\python311\\lib\\site-packages (from matplotlib) (3.0.9)\n",
      "Requirement already satisfied: python-dateutil>=2.7 in c:\\python311\\lib\\site-packages (from matplotlib) (2.8.2)\n",
      "Requirement already satisfied: six>=1.5 in c:\\python311\\lib\\site-packages (from python-dateutil>=2.7->matplotlib) (1.16.0)\n"
     ]
    }
   ],
   "source": [
    "!pip install matplotlib"
   ]
  },
  {
   "cell_type": "code",
   "execution_count": 149,
   "id": "2a77d5c3",
   "metadata": {},
   "outputs": [],
   "source": [
    "import numpy as np\n",
    "import matplotlib.pyplot as plt"
   ]
  },
  {
   "cell_type": "code",
   "execution_count": 190,
   "id": "57a7daf8",
   "metadata": {},
   "outputs": [
    {
     "data": {
      "image/png": "[encoded data removed]",
      "text/plain": [
       "<Figure size 640x480 with 1 Axes>"
      ]
     },
     "metadata": {},
     "output_type": "display_data"
    }
   ],
   "source": [
    "x_train = []\n",
    "y_train = []\n",
    "with open('lab_1_train.csv', 'r') as f:\n",
    "    first = True\n",
    "    for line in f:\n",
    "            if(first):\n",
    "                first = False\n",
    "                continue\n",
    "            words = line.split(',')\n",
    "            x_train.append(float(words[1]))\n",
    "            y_train.append(float(words[2][:-1]))\n",
    "\n",
    "plt.plot(x_train, y_train,  '.')\n",
    "plt.show()"
   ]
  },
  {
   "cell_type": "code",
   "execution_count": 213,
   "id": "fd93f67b",
   "metadata": {},
   "outputs": [
    {
     "name": "stdout",
     "output_type": "stream",
     "text": [
      "[1.96455028] [0.56952305]\n"
     ]
    }
   ],
   "source": [
    "w1 = np.random.randn(1)\n",
    "w2 = np.random.randn(1)\n",
    "print(w1,w2)"
   ]
  },
  {
   "cell_type": "code",
   "execution_count": 214,
   "id": "b46eb818",
   "metadata": {},
   "outputs": [
    {
     "data": {
      "text/plain": [
       "array([20355.43942688])"
      ]
     },
     "execution_count": 214,
     "metadata": {},
     "output_type": "execute_result"
    }
   ],
   "source": [
    "def Cost(X, Y, kof1, kof2):\n",
    "    res = 0\n",
    "    for index in range(len(X)):\n",
    "        res+=(Y[index]-(kof1+kof2 * X[index]))**2\n",
    "    return res\n",
    "Cost(x_train,y_train,w1,w2)"
   ]
  },
  {
   "cell_type": "code",
   "execution_count": 215,
   "id": "b1eb21d9",
   "metadata": {},
   "outputs": [
    {
     "data": {
      "text/plain": [
       "(array([-2209.8367859]), array([-663.66163342]))"
      ]
     },
     "execution_count": 215,
     "metadata": {},
     "output_type": "execute_result"
    }
   ],
   "source": [
    "def CostGrad(X, Y, kof1, kof2):\n",
    "    res1 = 0\n",
    "    res2 = 0\n",
    "    for index in range(len(X)):\n",
    "        res2+=2 * X[index] *(kof1 - Y[index] + kof2*float(X[index]))\n",
    "        res1+=2 * (kof1-Y[index]+kof2*X[index])\n",
    "    return (res1,res2)\n",
    "CostGrad(x_train,y_train,w1,w2)"
   ]
  },
  {
   "cell_type": "code",
   "execution_count": 216,
   "id": "46df806d",
   "metadata": {},
   "outputs": [
    {
     "name": "stdout",
     "output_type": "stream",
     "text": [
      "w1:[1.96455028] w2:[0.56952305] Cost:[20355.43942688]\n",
      "w1:[20.37985683] w2:[6.10003666] Cost:[198.51722037]\n",
      "w1:[18.7318755] w2:[5.48285866] Cost:[28.95524357]\n",
      "w1:[18.91578207] w2:[5.43043228] Cost:[26.27105337]\n",
      "w1:[18.93140408] w2:[5.32946478] Cost:[25.0497056]\n",
      "w1:[18.96149035] w2:[5.23589701] Cost:[23.9068582]\n",
      "w1:[18.98937166] w2:[5.14453543] Cost:[22.82729278]\n",
      "w1:[19.01659556] w2:[5.05577368] Cost:[21.80741956]\n",
      "w1:[19.04304477] w2:[4.96949725] Cost:[20.84393728]\n",
      "w1:[19.06875341] w2:[4.88564025] Cost:[19.93372796]\n",
      "w1:[19.0937411] w2:[4.80413451] Cost:[19.07384602]\n",
      "w1:[19.11802816] w2:[4.72491412] Cost:[18.26150876]\n",
      "w1:[19.14163424] w2:[4.647915] Cost:[17.49408733]\n",
      "w1:[19.16457842] w2:[4.57307487] Cost:[16.76909825]\n",
      "w1:[19.18687926] w2:[4.5003332] Cost:[16.08419533]\n",
      "w1:[19.20855481] w2:[4.42963113] Cost:[15.43716214]\n",
      "w1:[19.2296226] w2:[4.3609115] Cost:[14.82590476]\n",
      "w1:[19.25009966] w2:[4.2941187] Cost:[14.24844509]\n",
      "w1:[19.27000257] w2:[4.22919872] Cost:[13.70291438]\n",
      "w1:[19.28934741] w2:[4.16609904] Cost:[13.18754721]\n",
      "w1:[19.30814984] w2:[4.10476862] Cost:[12.70067577]\n",
      "w1:[19.32642507] w2:[4.04515785] Cost:[12.24072448]\n",
      "w1:[19.34418787] w2:[3.98721852] Cost:[11.80620485]\n",
      "w1:[19.36145262] w2:[3.93090375] Cost:[11.39571073]\n",
      "w1:[19.37823328] w2:[3.87616801] Cost:[11.00791369]\n",
      "w1:[19.39454343] w2:[3.82296701] Cost:[10.64155877]\n",
      "w1:[19.41039625] w2:[3.77125772] Cost:[10.29546038]\n",
      "w1:[19.42580458] w2:[3.72099831] Cost:[9.96849849]\n",
      "w1:[19.44078087] w2:[3.67214813] Cost:[9.65961501]\n",
      "w1:[19.45533723] w2:[3.62466768] Cost:[9.36781035]\n",
      "w1:[19.46948545] w2:[3.57851853] Cost:[9.09214018]\n",
      "w1:[19.48323696] w2:[3.53366336] Cost:[8.8317124]\n",
      "w1:[19.4966029] w2:[3.4900659] Cost:[8.58568421]\n",
      "w1:[19.50959406] w2:[3.44769087] Cost:[8.35325944]\n",
      "w1:[19.52222096] w2:[3.406504] Cost:[8.13368592]\n",
      "w1:[19.53449382] w2:[3.36647198] Cost:[7.92625308]\n",
      "w1:[19.54642255] w2:[3.32756242] Cost:[7.73028964]\n",
      "w1:[19.55801681] w2:[3.28974385] Cost:[7.54516143]\n",
      "w1:[19.56928598] w2:[3.25298568] Cost:[7.37026935]\n",
      "w1:[19.58023917] w2:[3.21725818] Cost:[7.20504742]\n",
      "w1:[19.59088525] w2:[3.18253245] Cost:[7.04896095]\n",
      "w1:[19.60123282] w2:[3.1487804] Cost:[6.90150483]\n",
      "w1:[19.61129024] w2:[3.11597472] Cost:[6.76220188]\n",
      "w1:[19.62106567] w2:[3.08408889] Cost:[6.63060127]\n",
      "w1:[19.63056701] w2:[3.05309711] Cost:[6.50627714]\n",
      "w1:[19.63980193] w2:[3.02297432] Cost:[6.38882715]\n",
      "w1:[19.64877792] w2:[2.99369614] Cost:[6.27787122]\n",
      "w1:[19.65750222] w2:[2.96523889] Cost:[6.17305027]\n",
      "w1:[19.6659819] w2:[2.93757957] Cost:[6.0740251]\n",
      "w1:[19.67422383] w2:[2.91069578] Cost:[5.98047523]\n",
      "w1:[19.68223465] w2:[2.8845658] Cost:[5.89209793]\n",
      "w1:[19.69002086] w2:[2.85916848] Cost:[5.8086072]\n",
      "w1:[19.69758875] w2:[2.83448327] Cost:[5.72973285]\n",
      "w1:[19.70494444] w2:[2.81049022] Cost:[5.65521962]\n",
      "w1:[19.71209388] w2:[2.78716992] Cost:[5.58482639]\n",
      "w1:[19.71904286] w2:[2.76450349] Cost:[5.51832535]\n",
      "w1:[19.725797] w2:[2.74247262] Cost:[5.45550129]\n",
      "w1:[19.73236176] w2:[2.72105947] Cost:[5.3961509]\n",
      "w1:[19.73874244] w2:[2.70024672] Cost:[5.34008212]\n",
      "w1:[19.74494422] w2:[2.68001755] Cost:[5.28711351]\n",
      "w1:[19.7509721] w2:[2.66035559] Cost:[5.23707363]\n",
      "w1:[19.75683097] w2:[2.64124493] Cost:[5.18980057]\n",
      "w1:[19.76252556] w2:[2.62267011] Cost:[5.14514134]\n",
      "w1:[19.76806048] w2:[2.60461612] Cost:[5.1029514]\n",
      "w1:[19.7734402] w2:[2.58706835] Cost:[5.06309424]\n",
      "w1:[19.77866909] w2:[2.5700126] Cost:[5.02544086]\n",
      "w1:[19.78375135] w2:[2.55343509] Cost:[4.98986942]\n",
      "w1:[19.78869112] w2:[2.53732239] Cost:[4.9562648]\n",
      "w1:[19.79349238] w2:[2.52166147] Cost:[4.92451825]\n",
      "w1:[19.79815901] w2:[2.50643968] Cost:[4.89452703]\n",
      "w1:[19.8026948] w2:[2.49164469] Cost:[4.86619409]\n",
      "w1:[19.80710341] w2:[2.47726454] Cost:[4.83942773]\n",
      "w1:[19.8113884] w2:[2.4632876] Cost:[4.81414135]\n",
      "w1:[19.81555325] w2:[2.44970256] Cost:[4.7902531]\n",
      "w1:[19.81960132] w2:[2.43649843] Cost:[4.76768568]\n",
      "w1:[19.82353588] w2:[2.42366454] Cost:[4.74636607]\n",
      "w1:[19.82736012] w2:[2.41119049] Cost:[4.72622526]\n",
      "w1:[19.83107714] w2:[2.39906621] Cost:[4.70719807]\n",
      "w1:[19.83468993] w2:[2.38728188] Cost:[4.68922294]\n",
      "w1:[19.83820142] w2:[2.37582798] Cost:[4.6722417]\n",
      "w1:[19.84161445] w2:[2.36469523] Cost:[4.65619938]\n",
      "w1:[19.84493178] w2:[2.35387463] Cost:[4.64104407]\n",
      "w1:[19.8481561] w2:[2.34335744] Cost:[4.62672674]\n",
      "w1:[19.85129001] w2:[2.33313514] Cost:[4.61320103]\n",
      "w1:[19.85433605] w2:[2.32319946] Cost:[4.6004232]\n",
      "w1:[19.85729668] w2:[2.31354237] Cost:[4.58835187]\n",
      "w1:[19.8601743] w2:[2.30415606] Cost:[4.576948]\n",
      "w1:[19.86297123] w2:[2.29503293] Cost:[4.56617467]\n",
      "w1:[19.86568974] w2:[2.28616561] Cost:[4.55599702]\n"
     ]
    }
   ],
   "source": [
    "step = 0.5\n",
    "iters_num = 10000\n",
    "cost = Cost(x_train,y_train,w1,w2)\n",
    "prev_cost = None\n",
    "\n",
    "for iter in range(iters_num):\n",
    "    grad = CostGrad(x_train,y_train,w1,w2)\n",
    "    print(f'w1:{w1} w2:{w2} Cost:{cost}')\n",
    "    w1 -= (step/len(x_train)) * grad[0]\n",
    "    w2 -= (step/len(x_train)) * grad[1]\n",
    "    prev_cost = cost\n",
    "    cost = Cost(x_train,y_train,w1,w2)\n",
    "\n",
    "    \n",
    "#     y = w1+x*w2 \n",
    "#     x = np.linspace(min(x_train),max(x_train),100)\n",
    "#     plt.plot(x, y)\n",
    "#     plt.plot(x_train, y_train,  '.')\n",
    "#     plt.show()\n",
    "    \n",
    "    if abs(cost-prev_cost)<0.01:\n",
    "        break\n"
   ]
  },
  {
   "cell_type": "code",
   "execution_count": 218,
   "id": "7868f613",
   "metadata": {
    "scrolled": false
   },
   "outputs": [
    {
     "data": {
      "image/png": "[encoded data removed]",
      "text/plain": [
       "<Figure size 640x480 with 1 Axes>"
      ]
     },
     "metadata": {},
     "output_type": "display_data"
    },
    {
     "name": "stdout",
     "output_type": "stream",
     "text": [
      "Train cost [4.54638211]\n",
      "Test cost [3.40831937]\n",
      "w1:[19.86833202] w2:[2.27754692]\n"
     ]
    }
   ],
   "source": [
    "x_test = []\n",
    "y_test = []\n",
    "with open('lab_1_test.csv', 'r') as f:\n",
    "    first = True\n",
    "    for line in f:\n",
    "            if(first):\n",
    "                first = False\n",
    "                continue\n",
    "            words = line.split(',')\n",
    "            x_test.append(float(words[1]))\n",
    "            y_test.append(float(words[2][:-1]))\n",
    "\n",
    "y = w1+x*w2 \n",
    "x = np.linspace(min(min(x_test),min(x_train)),max(max(x_test),max(x_train)),100)\n",
    "plt.plot(x, y)\n",
    "plt.plot(x_train, y_train,  '.')\n",
    "plt.plot(x_test, y_test,  '.')\n",
    "plt.show()\n",
    "print(f'Train cost {Cost(x_train,y_train,w1,w2)}')\n",
    "print(f'Test cost {Cost(x_test,y_test,w1,w2)}')\n",
    "print(f'w1:{w1} w2:{w2}')\n",
    "\n",
    "\n"
   ]
  },
  {
   "cell_type": "code",
   "execution_count": null,
   "id": "51633353",
   "metadata": {},
   "outputs": [],
   "source": []
  }
 ],
 "metadata": {
  "kernelspec": {
   "display_name": "Python 3 (ipykernel)",
   "language": "python",
   "name": "python3"
  },
  "language_info": {
   "codemirror_mode": {
    "name": "ipython",
    "version": 3
   },
   "file_extension": ".py",
   "mimetype": "text/x-python",
   "name": "python",
   "nbconvert_exporter": "python",
   "pygments_lexer": "ipython3",
   "version": "3.11.0"
  }
 },
 "nbformat": 4,
 "nbformat_minor": 5
}
